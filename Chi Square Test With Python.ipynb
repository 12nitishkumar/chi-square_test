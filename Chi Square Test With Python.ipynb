{
 "cells": [
  {
   "cell_type": "markdown",
   "id": "722cf5d1-e145-48c6-9530-23011c20e226",
   "metadata": {},
   "source": [
    "Chi Square Test With Python"
   ]
  },
  {
   "cell_type": "code",
   "execution_count": 1,
   "id": "e3a17f9d-2df2-43a3-9b80-33923b132d5e",
   "metadata": {},
   "outputs": [],
   "source": [
    "import scipy.stats as stat\n",
    "import numpy as np"
   ]
  },
  {
   "cell_type": "code",
   "execution_count": 11,
   "id": "e5f8b78b-e2c4-45f1-85c6-bc32614d5b8c",
   "metadata": {},
   "outputs": [],
   "source": [
    "## No Of Hours student study in a weekly basis dailly \n",
    "expected_data = [8,6,7,9,6,9,7]\n",
    "observed_data = [7,8,6,9,9,6,7]"
   ]
  },
  {
   "cell_type": "code",
   "execution_count": 12,
   "id": "36083e2e-c4c3-4192-99f1-ad6bd39d3063",
   "metadata": {},
   "outputs": [
    {
     "data": {
      "text/plain": [
       "(52, 52)"
      ]
     },
     "execution_count": 12,
     "metadata": {},
     "output_type": "execute_result"
    }
   ],
   "source": [
    "sum(expected_data),sum(observed_data)"
   ]
  },
  {
   "cell_type": "code",
   "execution_count": 13,
   "id": "c7201c89-9336-4966-95b5-a2cee1bd9fc7",
   "metadata": {},
   "outputs": [],
   "source": [
    "## Chi-Square Goodness Of Fit Test\n",
    "chisquare_test_statistic,p_value = stat.chisquare(observed_data,expected_data)"
   ]
  },
  {
   "cell_type": "code",
   "execution_count": 14,
   "id": "5e44ceda-e8a5-4148-bd94-83aeea3656f3",
   "metadata": {},
   "outputs": [
    {
     "data": {
      "text/plain": [
       "(3.4345238095238093, 0.7526596580922865)"
      ]
     },
     "execution_count": 14,
     "metadata": {},
     "output_type": "execute_result"
    }
   ],
   "source": [
    "chisquare_test_statistic,p_value"
   ]
  },
  {
   "cell_type": "code",
   "execution_count": 17,
   "id": "73ff79e8-d5e7-4ec5-abb4-a3f473d5362f",
   "metadata": {},
   "outputs": [
    {
     "name": "stdout",
     "output_type": "stream",
     "text": [
      "7\n"
     ]
    }
   ],
   "source": [
    "## find the critical value\n",
    "significane_value = 0.05\n",
    "dof = len(expected_data)\n",
    "print(dof)\n",
    "critical_value = stat.chi2.ppf(1-significane_value,dof)"
   ]
  },
  {
   "cell_type": "code",
   "execution_count": 18,
   "id": "228bfaa8-c07c-43ba-8e60-893c4b5dcdb8",
   "metadata": {},
   "outputs": [
    {
     "data": {
      "text/plain": [
       "14.067140449340169"
      ]
     },
     "execution_count": 18,
     "metadata": {},
     "output_type": "execute_result"
    }
   ],
   "source": [
    "critical_value"
   ]
  },
  {
   "cell_type": "code",
   "execution_count": 19,
   "id": "12bc17ba-88ee-4376-b4cd-b4b0cfb9219c",
   "metadata": {},
   "outputs": [
    {
     "name": "stdout",
     "output_type": "stream",
     "text": [
      "accept the null hypothesis\n"
     ]
    }
   ],
   "source": [
    "if chisquare_test_statistic > critical_value:\n",
    "    print(\"Reject the null hypothesis\")\n",
    "else:\n",
    "    print(\"accept the null hypothesis\")"
   ]
  },
  {
   "cell_type": "code",
   "execution_count": null,
   "id": "0c4a90a0-1b8d-4d9b-842a-d981951518a3",
   "metadata": {},
   "outputs": [],
   "source": []
  }
 ],
 "metadata": {
  "kernelspec": {
   "display_name": "Python 3 (ipykernel)",
   "language": "python",
   "name": "python3"
  },
  "language_info": {
   "codemirror_mode": {
    "name": "ipython",
    "version": 3
   },
   "file_extension": ".py",
   "mimetype": "text/x-python",
   "name": "python",
   "nbconvert_exporter": "python",
   "pygments_lexer": "ipython3",
   "version": "3.10.8"
  }
 },
 "nbformat": 4,
 "nbformat_minor": 5
}
